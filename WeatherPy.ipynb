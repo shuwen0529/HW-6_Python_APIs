{
 "cells": [
  {
   "cell_type": "markdown",
   "metadata": {},
   "source": [
    "# WeatherPy\n",
    "----\n",
    "\n",
    "#### Note\n",
    "* Instructions have been included for each segment. You do not have to follow them exactly, but they are included to help you think through the steps."
   ]
  },
  {
   "cell_type": "code",
   "execution_count": 6,
   "metadata": {
    "scrolled": true
   },
   "outputs": [],
   "source": [
    "# Dependencies and Setup\n",
    "import matplotlib.pyplot as plt\n",
    "import pandas as pd\n",
    "import numpy as np\n",
    "import requests\n",
    "import time\n",
    "from datetime import datetime\n",
    "currentDT = datetime.now()\n",
    "\n",
    "import openweathermapy.core as owm\n",
    "\n",
    "# Import API key\n",
    "from api_keys import api_key\n",
    "\n",
    "# Incorporated citipy to determine city based on latitude and longitude\n",
    "from citipy import citipy\n",
    "\n",
    "# Range of latitudes and longitudes\n",
    "lat_range = (-90, 90)\n",
    "lng_range = (-180, 180)"
   ]
  },
  {
   "cell_type": "markdown",
   "metadata": {},
   "source": [
    "## Generate Cities List"
   ]
  },
  {
   "cell_type": "code",
   "execution_count": 2,
   "metadata": {},
   "outputs": [
    {
     "data": {
      "text/plain": [
       "623"
      ]
     },
     "execution_count": 2,
     "metadata": {},
     "output_type": "execute_result"
    }
   ],
   "source": [
    "# List for holding lat_lngs and cities\n",
    "lat_lngs = []\n",
    "cities = []\n",
    "\n",
    "# Create a set of random lat and lng combinations\n",
    "lats = np.random.uniform(low=-90.000, high=90.000, size=1500)\n",
    "lngs = np.random.uniform(low=-180.000, high=180.000, size=1500)\n",
    "lat_lngs = zip(lats, lngs)\n",
    "\n",
    "# Identify nearest city for each lat, lng combination\n",
    "for lat_lng in lat_lngs:\n",
    "    city = citipy.nearest_city(lat_lng[0], lat_lng[1]).city_name\n",
    "    \n",
    "    # If the city is unique, then add it to a our cities list\n",
    "    if city not in cities:\n",
    "        cities.append(city)\n",
    "\n",
    "# Print the city count to confirm sufficient count\n",
    "len(cities)"
   ]
  },
  {
   "cell_type": "markdown",
   "metadata": {},
   "source": [
    "### Perform API Calls\n",
    "* Perform a weather check on each city using a series of successive API calls.\n",
    "* Include a print log of each city as it'sbeing processed (with the city number and city name).\n"
   ]
  },
  {
   "cell_type": "code",
   "execution_count": 3,
   "metadata": {},
   "outputs": [
    {
     "name": "stdout",
     "output_type": "stream",
     "text": [
      "Beginning Data Retrieval \n",
      "---------------------------\n",
      "Processing Record 1 of Set 1 | albany\n",
      "Processing Record 2 of Set 1 | codrington\n",
      "City not found. Skipping...\n",
      "Processing Record 3 of Set 1 | punta arenas\n",
      "Processing Record 4 of Set 1 | salsomaggiore terme\n",
      "City not found. Skipping...\n",
      "Processing Record 5 of Set 1 | lata\n",
      "Processing Record 6 of Set 1 | bluff\n",
      "Processing Record 7 of Set 1 | rikitea\n",
      "Processing Record 8 of Set 1 | hermanus\n",
      "Processing Record 9 of Set 1 | new norfolk\n",
      "Processing Record 10 of Set 1 | jamestown\n",
      "Processing Record 11 of Set 1 | hobart\n",
      "Processing Record 12 of Set 1 | jinchang\n",
      "Processing Record 13 of Set 1 | qaqortoq\n",
      "Processing Record 14 of Set 1 | khatanga\n",
      "City not found. Skipping...\n",
      "Processing Record 15 of Set 1 | zaozhuang\n",
      "Processing Record 16 of Set 1 | ostersund\n",
      "Processing Record 17 of Set 1 | thompson\n",
      "Processing Record 18 of Set 1 | bambous virieux\n",
      "Processing Record 19 of Set 1 | hasaki\n",
      "Processing Record 20 of Set 1 | soe\n",
      "Processing Record 21 of Set 1 | yendi\n",
      "Processing Record 22 of Set 1 | baruun-urt\n",
      "Processing Record 23 of Set 1 | leningradskiy\n",
      "Processing Record 24 of Set 1 | gatton\n",
      "Processing Record 25 of Set 1 | vaini\n",
      "Processing Record 26 of Set 1 | arraial do cabo\n",
      "Processing Record 27 of Set 1 | kupang\n",
      "Processing Record 28 of Set 1 | zhigansk\n",
      "Processing Record 29 of Set 1 | pisco\n",
      "Processing Record 30 of Set 1 | saskylakh\n",
      "Processing Record 31 of Set 1 | saint-philippe\n",
      "Processing Record 32 of Set 1 | cape town\n",
      "Processing Record 33 of Set 1 | mataura\n",
      "City not found. Skipping...\n",
      "Processing Record 34 of Set 1 | yatou\n",
      "City not found. Skipping...\n",
      "Processing Record 35 of Set 1 | nanortalik\n",
      "Processing Record 36 of Set 1 | puerto ayora\n",
      "Processing Record 37 of Set 1 | cidreira\n",
      "Processing Record 38 of Set 1 | saldanha\n",
      "Processing Record 39 of Set 1 | gweta\n",
      "Processing Record 40 of Set 1 | liverpool\n",
      "Processing Record 41 of Set 1 | fortuna\n",
      "Processing Record 42 of Set 1 | kapaa\n",
      "Processing Record 43 of Set 1 | nouadhibou\n",
      "Processing Record 44 of Set 1 | abu dhabi\n",
      "Processing Record 45 of Set 1 | luderitz\n",
      "Processing Record 46 of Set 1 | mezen\n",
      "City not found. Skipping...\n",
      "Processing Record 47 of Set 1 | cherskiy\n",
      "Processing Record 48 of Set 1 | butaritari\n",
      "Processing Record 49 of Set 1 | iqaluit\n",
      "Processing Record 50 of Set 1 | kawalu\n",
      "Processing Record 0 of Set 2 | eyl\n",
      "Processing Record 1 of Set 2 | santa fe\n",
      "Processing Record 2 of Set 2 | takoradi\n",
      "Processing Record 3 of Set 2 | ayan\n",
      "Processing Record 4 of Set 2 | avarua\n",
      "Processing Record 5 of Set 2 | sur\n",
      "Processing Record 6 of Set 2 | ushuaia\n",
      "City not found. Skipping...\n",
      "Processing Record 7 of Set 2 | yellowknife\n",
      "Processing Record 8 of Set 2 | san cristobal\n",
      "Processing Record 9 of Set 2 | anqing\n",
      "City not found. Skipping...\n",
      "City not found. Skipping...\n",
      "Processing Record 10 of Set 2 | longyearbyen\n",
      "Processing Record 11 of Set 2 | vila velha\n",
      "City not found. Skipping...\n",
      "Processing Record 12 of Set 2 | novosil\n",
      "Processing Record 13 of Set 2 | hilo\n",
      "Processing Record 14 of Set 2 | port lincoln\n",
      "Processing Record 15 of Set 2 | bellevue\n",
      "Processing Record 16 of Set 2 | belaya gora\n",
      "Processing Record 17 of Set 2 | poco das trincheiras\n",
      "Processing Record 18 of Set 2 | fukue\n",
      "Processing Record 19 of Set 2 | manavalakurichi\n",
      "Processing Record 20 of Set 2 | georgetown\n",
      "Processing Record 21 of Set 2 | ixtapa\n",
      "Processing Record 22 of Set 2 | ushtobe\n",
      "Processing Record 23 of Set 2 | djenne\n",
      "Processing Record 24 of Set 2 | ryotsu\n",
      "City not found. Skipping...\n",
      "Processing Record 25 of Set 2 | novoagansk\n",
      "Processing Record 26 of Set 2 | katsuura\n",
      "Processing Record 27 of Set 2 | stulovo\n",
      "Processing Record 28 of Set 2 | dunedin\n",
      "Processing Record 29 of Set 2 | tual\n",
      "Processing Record 30 of Set 2 | mount gambier\n",
      "Processing Record 31 of Set 2 | cotonou\n",
      "Processing Record 32 of Set 2 | labuhan\n",
      "Processing Record 33 of Set 2 | abnub\n",
      "Processing Record 34 of Set 2 | dikson\n",
      "Processing Record 35 of Set 2 | anse-bertrand\n",
      "Processing Record 36 of Set 2 | severo-kurilsk\n",
      "Processing Record 37 of Set 2 | barrow\n",
      "Processing Record 38 of Set 2 | vangaindrano\n",
      "Processing Record 39 of Set 2 | menongue\n",
      "Processing Record 40 of Set 2 | port alfred\n",
      "Processing Record 41 of Set 2 | bandarbeyla\n",
      "City not found. Skipping...\n",
      "City not found. Skipping...\n",
      "Processing Record 42 of Set 2 | gazojak\n",
      "Processing Record 43 of Set 2 | nemuro\n",
      "Processing Record 44 of Set 2 | barabinsk\n",
      "Processing Record 45 of Set 2 | muli\n",
      "Processing Record 46 of Set 2 | sambava\n",
      "Processing Record 47 of Set 2 | boende\n",
      "Processing Record 48 of Set 2 | provideniya\n",
      "Processing Record 49 of Set 2 | price\n",
      "Processing Record 50 of Set 2 | marica\n",
      "Processing Record 0 of Set 3 | tiksi\n",
      "City not found. Skipping...\n",
      "Processing Record 1 of Set 3 | atambua\n",
      "City not found. Skipping...\n",
      "Processing Record 2 of Set 3 | talnakh\n",
      "Processing Record 3 of Set 3 | upernavik\n",
      "-----------------------\n",
      "Data Retrieval Complete\n",
      "-----------------------\n"
     ]
    }
   ],
   "source": [
    "# Initial values for processing\n",
    "count = 1 \n",
    "sets  = 1\n",
    "\n",
    "# Set up lists to hold reponse info\n",
    "City=[]\n",
    "Cloudiness = []\n",
    "Country = []\n",
    "Date = []\n",
    "Humidity = []\n",
    "Lat = []\n",
    "Lon = []\n",
    "Max_temp = [] \n",
    "Wind = []\n",
    "\n",
    "# Create settings dictionary with information we're interested in\n",
    "settings = {\"units\": \"Imperial\", \"appid\": api_key}\n",
    "\n",
    "print(f'Beginning Data Retrieval \\n---------------------------')\n",
    "for city in cities:\n",
    "    try:\n",
    "        current_weather = owm.get_current(city, **settings)\n",
    "        print(f\"Processing Record {count} of Set {sets} | {city}\" )\n",
    "        City.append(city)\n",
    "        Cloudiness.append( current_weather[\"clouds\"][\"all\"]) \n",
    "        Country.append( current_weather[\"sys\"][\"country\"])        \n",
    "        Date.append( current_weather[\"dt\"])\n",
    "        Humidity.append( current_weather[\"main\"][\"humidity\"])\n",
    "        Lat.append( current_weather[\"coord\"][\"lat\"])\n",
    "        Lon.append( current_weather[\"coord\"][\"lon\"]) \n",
    "        Max_temp.append( current_weather[\"main\"][\"temp_max\"])\n",
    "        Wind.append( current_weather[\"wind\"][\"speed\"])\n",
    "        count = count+1\n",
    "    except Exception: \n",
    "        print(\"City not found. Skipping...\")\n",
    "    if count == 51:\n",
    "        count = 0 \n",
    "        sets = sets+1\n",
    "\n",
    "print(\"-----------------------\\nData Retrieval Complete\\n-----------------------\")"
   ]
  },
  {
   "cell_type": "markdown",
   "metadata": {},
   "source": [
    "### Convert Raw Data to DataFrame\n",
    "* Export the city data into a .csv.\n",
    "* Display the DataFrame"
   ]
  },
  {
   "cell_type": "code",
   "execution_count": 4,
   "metadata": {},
   "outputs": [
    {
     "data": {
      "text/plain": [
       "City          105\n",
       "Cloudiness    105\n",
       "Country       105\n",
       "Date          105\n",
       "Humidity      105\n",
       "Lat           105\n",
       "Lng           105\n",
       "Max Temp      105\n",
       "Wind Speed    105\n",
       "dtype: int64"
      ]
     },
     "execution_count": 4,
     "metadata": {},
     "output_type": "execute_result"
    }
   ],
   "source": [
    "# Dataframe for storing city data\n",
    "WeatherPy_df = pd.DataFrame({\"City\":City,\n",
    "                             \"Cloudiness\":Cloudiness,\n",
    "                             \"Country\":Country,\n",
    "                             \"Date\":Date,\n",
    "                             \"Humidity\":Humidity,\n",
    "                             \"Lat\":Lat, \"Lng\":Lon,\n",
    "                             \"Max Temp\":Max_temp,\n",
    "                             \"Wind Speed\":Wind\n",
    "                            })\n",
    "WeatherPy_df.count()\n",
    "WeatherPy_df.to_csv(\"WeatherPy_cities.csv\", encoding='utf-8', index=False)"
   ]
  },
  {
   "cell_type": "code",
   "execution_count": 5,
   "metadata": {},
   "outputs": [
    {
     "data": {
      "text/html": [
       "<div>\n",
       "<style scoped>\n",
       "    .dataframe tbody tr th:only-of-type {\n",
       "        vertical-align: middle;\n",
       "    }\n",
       "\n",
       "    .dataframe tbody tr th {\n",
       "        vertical-align: top;\n",
       "    }\n",
       "\n",
       "    .dataframe thead th {\n",
       "        text-align: right;\n",
       "    }\n",
       "</style>\n",
       "<table border=\"1\" class=\"dataframe\">\n",
       "  <thead>\n",
       "    <tr style=\"text-align: right;\">\n",
       "      <th></th>\n",
       "      <th>City</th>\n",
       "      <th>Cloudiness</th>\n",
       "      <th>Country</th>\n",
       "      <th>Date</th>\n",
       "      <th>Humidity</th>\n",
       "      <th>Lat</th>\n",
       "      <th>Lng</th>\n",
       "      <th>Max Temp</th>\n",
       "      <th>Wind Speed</th>\n",
       "    </tr>\n",
       "  </thead>\n",
       "  <tbody>\n",
       "    <tr>\n",
       "      <th>0</th>\n",
       "      <td>albany</td>\n",
       "      <td>40</td>\n",
       "      <td>US</td>\n",
       "      <td>1561341946</td>\n",
       "      <td>43</td>\n",
       "      <td>42.65</td>\n",
       "      <td>-73.75</td>\n",
       "      <td>72.00</td>\n",
       "      <td>13.87</td>\n",
       "    </tr>\n",
       "    <tr>\n",
       "      <th>1</th>\n",
       "      <td>codrington</td>\n",
       "      <td>90</td>\n",
       "      <td>AU</td>\n",
       "      <td>1561342019</td>\n",
       "      <td>87</td>\n",
       "      <td>-28.95</td>\n",
       "      <td>153.24</td>\n",
       "      <td>57.20</td>\n",
       "      <td>5.82</td>\n",
       "    </tr>\n",
       "    <tr>\n",
       "      <th>2</th>\n",
       "      <td>punta arenas</td>\n",
       "      <td>40</td>\n",
       "      <td>CL</td>\n",
       "      <td>1561341973</td>\n",
       "      <td>86</td>\n",
       "      <td>-53.16</td>\n",
       "      <td>-70.91</td>\n",
       "      <td>33.80</td>\n",
       "      <td>4.70</td>\n",
       "    </tr>\n",
       "    <tr>\n",
       "      <th>3</th>\n",
       "      <td>salsomaggiore terme</td>\n",
       "      <td>10</td>\n",
       "      <td>IT</td>\n",
       "      <td>1561342558</td>\n",
       "      <td>85</td>\n",
       "      <td>44.81</td>\n",
       "      <td>9.98</td>\n",
       "      <td>71.01</td>\n",
       "      <td>0.85</td>\n",
       "    </tr>\n",
       "    <tr>\n",
       "      <th>4</th>\n",
       "      <td>lata</td>\n",
       "      <td>95</td>\n",
       "      <td>IN</td>\n",
       "      <td>1561342558</td>\n",
       "      <td>74</td>\n",
       "      <td>30.78</td>\n",
       "      <td>78.62</td>\n",
       "      <td>45.04</td>\n",
       "      <td>4.88</td>\n",
       "    </tr>\n",
       "  </tbody>\n",
       "</table>\n",
       "</div>"
      ],
      "text/plain": [
       "                  City  Cloudiness Country        Date  Humidity    Lat  \\\n",
       "0               albany          40      US  1561341946        43  42.65   \n",
       "1           codrington          90      AU  1561342019        87 -28.95   \n",
       "2         punta arenas          40      CL  1561341973        86 -53.16   \n",
       "3  salsomaggiore terme          10      IT  1561342558        85  44.81   \n",
       "4                 lata          95      IN  1561342558        74  30.78   \n",
       "\n",
       "      Lng  Max Temp  Wind Speed  \n",
       "0  -73.75     72.00       13.87  \n",
       "1  153.24     57.20        5.82  \n",
       "2  -70.91     33.80        4.70  \n",
       "3    9.98     71.01        0.85  \n",
       "4   78.62     45.04        4.88  "
      ]
     },
     "execution_count": 5,
     "metadata": {},
     "output_type": "execute_result"
    }
   ],
   "source": [
    "WeatherPy_df.head()"
   ]
  },
  {
   "cell_type": "markdown",
   "metadata": {},
   "source": [
    "### Plotting the Data\n",
    "* Use proper labeling of the plots using plot titles (including date of analysis) and axes labels.\n",
    "* Save the plotted figures as .pngs."
   ]
  },
  {
   "cell_type": "markdown",
   "metadata": {},
   "source": [
    "#### Latitude vs. Temperature Plot"
   ]
  },
  {
   "cell_type": "code",
   "execution_count": 25,
   "metadata": {},
   "outputs": [
    {
     "data": {
      "image/png": "[encoded data removed]",
      "text/plain": [
       "<Figure size 576x360 with 1 Axes>"
      ]
     },
     "metadata": {
      "needs_background": "light"
     },
     "output_type": "display_data"
    }
   ],
   "source": [
    "plt.figure(figsize=(8,5))\n",
    "plt.scatter(WeatherPy_df[\"Lat\"], WeatherPy_df[\"Max Temp\"], color='b', alpha=0.5)\n",
    "plt.ylim(25, 105)\n",
    "plt.xlabel(\"Latitude\")\n",
    "plt.ylabel(\"Max Temperature ($^\\circ$F)\")\n",
    "plt.title(\"City Latitude vs. Max Temperature (\"+currentDT.strftime(\"%m/%d/%y\")+\")\")\n",
    "plt.grid()\n",
    "plt.savefig(\"Figures/Lat_vs_MaxTemp.png\")\n",
    "plt.show()"
   ]
  },
  {
   "cell_type": "markdown",
   "metadata": {},
   "source": [
    "#### Latitude vs. Humidity Plot"
   ]
  },
  {
   "cell_type": "code",
   "execution_count": 27,
   "metadata": {},
   "outputs": [
    {
     "data": {
      "image/png": "[encoded data removed]",
      "text/plain": [
       "<Figure size 576x360 with 1 Axes>"
      ]
     },
     "metadata": {
      "needs_background": "light"
     },
     "output_type": "display_data"
    }
   ],
   "source": [
    "plt.figure(figsize=(8,5))\n",
    "plt.scatter(WeatherPy_df[\"Lat\"], WeatherPy_df[\"Humidity\"], color='b', alpha=0.5)\n",
    "plt.ylim(25, 105)\n",
    "plt.xlabel(\"Latitude\")\n",
    "plt.ylabel(\"Humidity (%)\")\n",
    "plt.title(\"City Latitude vs. Humidity (\"+currentDT.strftime(\"%m/%d/%y\")+\")\")\n",
    "plt.grid()\n",
    "plt.savefig(\"Figures/Lat_vs_Humidity.png\")\n",
    "plt.show()"
   ]
  },
  {
   "cell_type": "markdown",
   "metadata": {},
   "source": [
    "#### Latitude vs. Cloudiness Plot"
   ]
  },
  {
   "cell_type": "code",
   "execution_count": 33,
   "metadata": {},
   "outputs": [
    {
     "data": {
      "image/png": "[encoded data removed]",
      "text/plain": [
       "<Figure size 576x360 with 1 Axes>"
      ]
     },
     "metadata": {
      "needs_background": "light"
     },
     "output_type": "display_data"
    }
   ],
   "source": [
    "plt.figure(figsize=(8,5))\n",
    "plt.scatter(WeatherPy_df[\"Lat\"], WeatherPy_df[\"Cloudiness\"], color='b', alpha=0.5)\n",
    "plt.ylim(-5, 105)\n",
    "plt.xlabel(\"Latitude\")\n",
    "plt.ylabel(\"Cloudiness (%)\")\n",
    "plt.title(\"City Latitude vs. Cloudiness (\"+currentDT.strftime(\"%m/%d/%y\")+\")\")\n",
    "plt.grid()\n",
    "plt.savefig(\"Figures/Lat_vs_Cloudiness.png\")\n",
    "plt.show()"
   ]
  },
  {
   "cell_type": "markdown",
   "metadata": {},
   "source": [
    "#### Latitude vs. Wind Speed Plot"
   ]
  },
  {
   "cell_type": "code",
   "execution_count": 39,
   "metadata": {},
   "outputs": [
    {
     "data": {
      "image/png": "[encoded data removed]",
      "text/plain": [
       "<Figure size 576x360 with 1 Axes>"
      ]
     },
     "metadata": {
      "needs_background": "light"
     },
     "output_type": "display_data"
    }
   ],
   "source": [
    "plt.figure(figsize=(8,5))\n",
    "plt.scatter(WeatherPy_df[\"Lat\"], WeatherPy_df[\"Wind Speed\"], color='b', alpha=0.5)\n",
    "plt.ylim(-1, 34)\n",
    "plt.xlabel(\"Latitude\")\n",
    "plt.ylabel(\"Wind Speed (mph)\")\n",
    "plt.title(\"City Latitude vs. Wind Speed (\"+currentDT.strftime(\"%m/%d/%y\")+\")\")\n",
    "plt.grid()\n",
    "plt.savefig(\"Figures/Lat_vs_WindSpeed.png\")\n",
    "plt.show()"
   ]
  },
  {
   "cell_type": "code",
   "execution_count": null,
   "metadata": {},
   "outputs": [],
   "source": []
  }
 ],
 "metadata": {
  "anaconda-cloud": {},
  "kernel_info": {
   "name": "python3"
  },
  "kernelspec": {
   "display_name": "Python 3",
   "language": "python",
   "name": "python3"
  },
  "language_info": {
   "codemirror_mode": {
    "name": "ipython",
    "version": 3
   },
   "file_extension": ".py",
   "mimetype": "text/x-python",
   "name": "python",
   "nbconvert_exporter": "python",
   "pygments_lexer": "ipython3",
   "version": "3.7.3"
  },
  "nteract": {
   "version": "0.12.3"
  }
 },
 "nbformat": 4,
 "nbformat_minor": 2
}
